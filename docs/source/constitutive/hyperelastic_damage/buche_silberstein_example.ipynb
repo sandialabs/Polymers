{
 "cells": [
  {
   "cell_type": "markdown",
   "id": "0ba0abc1-810d-489f-9398-92cb362a1ad2",
   "metadata": {},
   "source": [
    "# Buche-Silberstein model\n",
    "\n",
    "[![Binder](https://mybinder.org/badge_logo.svg)](https://mybinder.org/v2/gh/sandialabs/Polymers/main?labpath=docs%2Fsource%2Fconstitutive%2Fhyperelastic_damage%2Fbuche_silberstein_example.ipynb)\n",
    "\n",
    "For more information, see [Buche and Silberstein, 2021](https://doi.org/10.1016/j.jmps.2021.104593)."
   ]
  },
  {
   "cell_type": "code",
   "execution_count": null,
   "id": "765ca427-2b1d-4b12-9121-271e57b5e10f",
   "metadata": {},
   "outputs": [],
   "source": [
    "from polymers import constitutive\n",
    "BucheSilberstein = constitutive.hyperelastic_damage.BucheSilberstein"
   ]
  },
  {
   "cell_type": "code",
   "execution_count": null,
   "id": "ff3fca61-17b8-44e9-94c3-4e58369f61fd",
   "metadata": {},
   "outputs": [],
   "source": [
    "import numpy as np\n",
    "import matplotlib.pyplot as plt"
   ]
  },
  {
   "cell_type": "code",
   "execution_count": null,
   "id": "49178bdc-591a-4934-943a-4906459e154d",
   "metadata": {},
   "outputs": [],
   "source": [
    "increment = 0.01\n",
    "stretch = np.hstack((\n",
    "    np.arange(1.0, 1.5, step=increment), np.arange(1.5, 1.0, step=-increment),\n",
    "    np.arange(1.0, 2.0, step=increment), np.arange(2.0, 1.0, step=-increment),\n",
    "    np.arange(1.0, 2.5, step=increment), np.arange(2.5, 1.0, step=-increment),\n",
    "    np.arange(1.0, 3.0, step=increment), np.arange(3.0, 1.0, step=-increment),\n",
    "    np.arange(1.0, 3.5, step=increment), np.arange(3.5, 1.0, step=-increment),\n",
    "))\n",
    "time = np.linspace(0, 600, len(stretch))\n",
    "plt.plot(time, stretch)\n",
    "plt.xlabel(r'$t$ [seconds]')\n",
    "plt.ylabel(r'$F_{11}(t)$')\n",
    "plt.show()"
   ]
  },
  {
   "cell_type": "code",
   "execution_count": null,
   "id": "61d80822-c059-4798-9286-582c0a50c158",
   "metadata": {},
   "outputs": [],
   "source": [
    "network_1 = BucheSilberstein(\n",
    "    method=3,\n",
    "    nondimensional_critical_extension=1.17,\n",
    "    nondimensional_link_stiffness=6000,\n",
    "    number_of_links=38,\n",
    "    swelling_ratio=15.625\n",
    ")\n",
    "nondimensional_stress_1, probability_1 = network_1.uniaxial_tension(stretch)\n",
    "n_over_beta_1 = 0.2\n",
    "stress_1 = n_over_beta_1 / probability_1[0] * nondimensional_stress_1\n",
    "\n",
    "\n",
    "stress_1 *= 20 / 300\n",
    "\n",
    "\n",
    "stress = stress_1 + (1.5/3 - n_over_beta_1)*(stretch**2 - 1/stretch)\n",
    "data = np.genfromtxt('../../../../data/doi/10.1126/science.1248494/fig4c1.csv')\n",
    "plt.plot(data[:, 0], data[:, 1], 'o', color='tab:orange', mfc='none', label='Experiment')\n",
    "plt.plot(stretch, stress, color='tab:blue', label='Model')\n",
    "plt.xlabel(r'$F_{11}(t)$')\n",
    "plt.ylabel(r'$\\sigma_{11}(t)$ [MPa]')\n",
    "plt.legend()\n",
    "plt.show()"
   ]
  },
  {
   "cell_type": "code",
   "execution_count": null,
   "id": "a4bb8d84-e891-408e-9036-f133349d8d33",
   "metadata": {},
   "outputs": [],
   "source": [
    "emission = 1e9*np.gradient(1 - probability_1)/np.gradient(time)\n",
    "data = np.genfromtxt('../../../../data/doi/10.1126/science.1248494/fig4c2.csv')\n",
    "plt.plot(data[:, 0], data[:, 1], 'o', color='tab:orange', mfc='none', label='Experiment')\n",
    "plt.plot(stretch, 1e-6*emission, color='tab:blue', label='Model')\n",
    "plt.xlabel(r'$F_{11}(t)$')\n",
    "plt.ylabel(r'Photon count $\\times 10^{-6}$')\n",
    "plt.legend()\n",
    "plt.show()"
   ]
  }
 ],
 "metadata": {
  "kernelspec": {
   "display_name": "Python 3 (ipykernel)",
   "language": "python",
   "name": "python3"
  },
  "language_info": {
   "codemirror_mode": {
    "name": "ipython",
    "version": 3
   },
   "file_extension": ".py",
   "mimetype": "text/x-python",
   "name": "python",
   "nbconvert_exporter": "python",
   "pygments_lexer": "ipython3",
   "version": "3.9.18"
  }
 },
 "nbformat": 4,
 "nbformat_minor": 5
}
