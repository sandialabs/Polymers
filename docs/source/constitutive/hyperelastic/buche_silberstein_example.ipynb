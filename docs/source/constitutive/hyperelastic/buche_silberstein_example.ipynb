{
 "cells": [
  {
   "cell_type": "markdown",
   "id": "874f929d-b9ce-4502-9367-f8d2ef49c107",
   "metadata": {},
   "source": [
    "# Buche-Silberstein model\n",
    "\n",
    "[![Binder](https://mybinder.org/badge_logo.svg)](https://mybinder.org/v2/gh/sandialabs/Polymers/main?labpath=docs%2Fsource%2Fconstitutive%2Fhyperelastic%2Fbuche_silberstein_example.ipynb)\n",
    "\n",
    "For more information, see [Buche and Silberstein, 2020](https://doi.org/10.1103/PhysRevE.102.012501)."
   ]
  },
  {
   "cell_type": "code",
   "execution_count": null,
   "id": "3ed7ab62-ac2c-4d8d-9deb-0b4c92c8fe19",
   "metadata": {},
   "outputs": [],
   "source": [
    "from polymers import constitutive\n",
    "BucheSilberstein = constitutive.hyperelastic.BucheSilberstein"
   ]
  },
  {
   "cell_type": "code",
   "execution_count": null,
   "id": "be6b95c0-0786-4fd6-b5c5-da77ded2b955",
   "metadata": {},
   "outputs": [],
   "source": [
    "import numpy as np\n",
    "import matplotlib.pyplot as plt"
   ]
  },
  {
   "cell_type": "code",
   "execution_count": null,
   "id": "410baae1-f56d-410a-96e1-919b8a6c1c59",
   "metadata": {},
   "outputs": [],
   "source": [
    "stretch = np.linspace(1, 4, 33)\n",
    "for kappa in (50, 5):\n",
    "    plt.plot(stretch, stretch**2 - 1/stretch, '#66cc1a') # orange: #ff9933\n",
    "    for method, color, style in zip((2, 3), ('#0080ff', '#a61433'), ('-', '--')):\n",
    "        for num_links in (5, 10, 25):\n",
    "            model = BucheSilberstein(method, kappa, num_links)\n",
    "            stress = model.uniaxial_tension(stretch)\n",
    "            plt.plot(stretch, stress, color, linestyle=style)\n",
    "    plt.xlabel(r'$F_{11}$, where $F_{22}=F_{33}=1/\\sqrt{F_{11}}$')\n",
    "    plt.ylabel(r'$\\beta\\sigma_{11}/n$')\n",
    "    plt.xlim([1, 4])\n",
    "    plt.ylim([0, 35])\n",
    "    plt.show()"
   ]
  },
  {
   "cell_type": "code",
   "execution_count": null,
   "id": "c4f71be4",
   "metadata": {},
   "outputs": [],
   "source": [
    "kappa = 50\n",
    "plt.plot(stretch, stretch**2 - 1/stretch**4, '#66cc1a') # orange: #ff9933\n",
    "for method, color, style in zip((2, 3), ('#0080ff', '#a61433'), ('-', '--')):\n",
    "    for num_links in (5, 10, 25):\n",
    "        model = BucheSilberstein(method, kappa, num_links)\n",
    "        stress = model.equibiaxial_tension(stretch)\n",
    "        plt.plot(stretch, stress, color, linestyle=style)\n",
    "plt.xlabel(r'$F_{11}=F_{22}$, where $F_{33}=F_{11}^{-2}$')\n",
    "plt.ylabel(r'$\\beta\\sigma_{11}/n$')\n",
    "plt.xlim([1, 4])\n",
    "plt.ylim([0, 35])\n",
    "plt.show()"
   ]
  }
 ],
 "metadata": {
  "kernelspec": {
   "display_name": "Python 3 (ipykernel)",
   "language": "python",
   "name": "python3"
  },
  "language_info": {
   "codemirror_mode": {
    "name": "ipython",
    "version": 3
   },
   "file_extension": ".py",
   "mimetype": "text/x-python",
   "name": "python",
   "nbconvert_exporter": "python",
   "pygments_lexer": "ipython3",
   "version": "3.9.18"
  }
 },
 "nbformat": 4,
 "nbformat_minor": 5
}
