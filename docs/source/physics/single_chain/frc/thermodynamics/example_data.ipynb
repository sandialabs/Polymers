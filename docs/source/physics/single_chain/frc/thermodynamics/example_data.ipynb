{
 "cells": [
  {
   "cell_type": "markdown",
   "id": "15df5842-208a-4fd5-85e7-bbd1edc62e80",
   "metadata": {},
   "source": [
    "# Freely-rotating chain (FRC) model data\n",
    "\n",
    "[![Binder](https://mybinder.org/badge_logo.svg)](https://mybinder.org/v2/gh/sandialabs/Polymers/main?labpath=docs%2Fsource%2F%2Fphysics%2Fsingle_chain%2Ffrc%2Fthermodynamics%2Fexample_data.ipynb)"
   ]
  },
  {
   "cell_type": "markdown",
   "id": "745f68e4-f896-4232-aade-22b4bcf66cad",
   "metadata": {},
   "source": [
    "## Equilibrium radial distribution functions"
   ]
  },
  {
   "cell_type": "code",
   "execution_count": null,
   "id": "bf824452-d4b0-418d-b71a-bfd927a77017",
   "metadata": {},
   "outputs": [],
   "source": [
    "import numpy as np\n",
    "import matplotlib.pyplot as plt\n",
    "angle_data = (15, 20, 25, 30, 35, 40, 45, 50, 55, 60, 65, 70, 75, 80, 85 90)\n",
    "links_data = (8, 10, 12, 14, 16, 18, 20, 22, 24, 26, 28, 30, 32)\n",
    "prefix = '../../../../../../data/frc/'\n",
    "suffix = '-1e3-bins-1e12-samples.csv'"
   ]
  },
  {
   "cell_type": "markdown",
   "id": "a19b465a-8d3b-4824-adfa-8bae3d8dc5ec",
   "metadata": {},
   "source": [
    "### Varying number of links"
   ]
  },
  {
   "cell_type": "code",
   "execution_count": null,
   "id": "1a5df238-2ba6-42f1-bd6c-123a21f0347f",
   "metadata": {},
   "outputs": [],
   "source": [
    "for angle in angle_data:\n",
    "    for links in links_data:\n",
    "        data = np.genfromtxt(prefix + f'{links}-links/{angle}-degrees' + suffix)\n",
    "        plt.plot(data[:,0], data[:,1], label=f'{links} links')\n",
    "    plt.title(f'{angle} degrees', fontsize=10)\n",
    "    plt.xlabel(r'$\\gamma$')\n",
    "    plt.ylabel(r'$\\mathscr{g}^\\mathrm{eq}(\\gamma)$')\n",
    "    plt.legend(loc=(1.025, 0.25))\n",
    "    plt.show()"
   ]
  },
  {
   "cell_type": "markdown",
   "id": "ea0a054a-3e23-4ebd-b42c-47f27f016715",
   "metadata": {},
   "source": [
    "### Varying link angle"
   ]
  },
  {
   "cell_type": "code",
   "execution_count": null,
   "id": "5441b1d7-9515-4033-8cfb-86a795a02b2a",
   "metadata": {},
   "outputs": [],
   "source": [
    "for links in links_data:\n",
    "    for angle in angle_data:\n",
    "        data = np.genfromtxt(prefix + f'{links}-links/{angle}-degrees' + suffix)\n",
    "        plt.plot(data[:,0], data[:,1], label=f'{angle} degrees')\n",
    "    plt.title(f'{links} links', fontsize=10)\n",
    "    plt.xlabel(r'$\\gamma$')\n",
    "    plt.ylabel(r'$\\mathscr{g}^\\mathrm{eq}(\\gamma)$')\n",
    "    plt.legend(loc=(1.025, 0.25))\n",
    "    plt.show()"
   ]
  },
  {
   "cell_type": "markdown",
   "id": "37bf0dd0-a39a-4743-8e91-6cf13b3ea0b0",
   "metadata": {},
   "source": [
    "## Helmholtz free energy functions"
   ]
  },
  {
   "cell_type": "code",
   "execution_count": null,
   "id": "6f2bf273-d5f3-4c43-a279-28cfd959d5ba",
   "metadata": {},
   "outputs": [],
   "source": [
    "from warnings import filterwarnings\n",
    "filterwarnings(\"ignore\", message=\"divide by zero encountered in divide\")"
   ]
  },
  {
   "cell_type": "markdown",
   "id": "b9cbf277-c884-4c0a-a191-576900cbcebd",
   "metadata": {},
   "source": [
    "### Varying number of links"
   ]
  },
  {
   "cell_type": "code",
   "execution_count": null,
   "id": "449329bc-0cac-46b2-91b2-32b448832bb9",
   "metadata": {},
   "outputs": [],
   "source": [
    "for angle in angle_data:\n",
    "    for links in links_data:\n",
    "        data = np.genfromtxt(prefix + f'{links}-links/{angle}-degrees' + suffix)\n",
    "        gamma = data[:,0]\n",
    "        plt.plot(gamma, np.log(gamma**2/data[:,1])/links, label=f'{links} links')\n",
    "    plt.title(f'{angle} degrees', fontsize=10)\n",
    "    plt.xlabel(r'$\\gamma$')\n",
    "    plt.ylabel(r'$\\vartheta(\\gamma)$')\n",
    "    plt.legend(loc=(1.025, 0.25))\n",
    "    plt.show()"
   ]
  },
  {
   "cell_type": "markdown",
   "id": "4897359b-0785-42d6-9976-0a8fb5c81f25",
   "metadata": {},
   "source": [
    "### Varying link angle"
   ]
  },
  {
   "cell_type": "code",
   "execution_count": null,
   "id": "eb5358cf-b1ef-47ea-9b4f-edce3fb6fe16",
   "metadata": {},
   "outputs": [],
   "source": [
    "for links in links_data:\n",
    "    for angle in angle_data:\n",
    "        data = np.genfromtxt(prefix + f'{links}-links/{angle}-degrees' + suffix)\n",
    "        gamma = data[:,0]\n",
    "        plt.plot(gamma, np.log(gamma**2/data[:,1])/links, label=f'{angle} degrees')\n",
    "    plt.title(f'{links} links', fontsize=10)\n",
    "    plt.xlabel(r'$\\gamma$')\n",
    "    plt.ylabel(r'$\\vartheta(\\gamma)$')\n",
    "    plt.legend(loc=(1.025, 0.25))\n",
    "    plt.show()"
   ]
  }
 ],
 "metadata": {
  "kernelspec": {
   "display_name": "Python 3 (ipykernel)",
   "language": "python",
   "name": "python3"
  },
  "language_info": {
   "codemirror_mode": {
    "name": "ipython",
    "version": 3
   },
   "file_extension": ".py",
   "mimetype": "text/x-python",
   "name": "python",
   "nbconvert_exporter": "python",
   "pygments_lexer": "ipython3",
   "version": "3.9.18"
  }
 },
 "nbformat": 4,
 "nbformat_minor": 5
}
