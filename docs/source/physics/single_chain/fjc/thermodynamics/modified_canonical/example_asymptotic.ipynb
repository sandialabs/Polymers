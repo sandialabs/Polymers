{
 "cells": [
  {
   "cell_type": "markdown",
   "id": "a12e84de",
   "metadata": {},
   "source": [
    "# Asymptotic approximations\n",
    "\n",
    "[![Binder](https://mybinder.org/badge_logo.svg)](https://mybinder.org/v2/gh/sandialabs/Polymers/main?labpath=docs%2Fsource%2F%2Fphysics%2Fsingle_chain%2Ffjc%2Fthermodynamics%2Fmodified_canonical%2Fasymptotic.ipynb)"
   ]
  },
  {
   "cell_type": "code",
   "execution_count": null,
   "id": "d0325332",
   "metadata": {},
   "outputs": [],
   "source": [
    "from polymers import physics\n",
    "fjc = physics.single_chain.fjc.thermodynamics.modified_canonical.FJC(8, 1, 1)"
   ]
  },
  {
   "cell_type": "markdown",
   "id": "8abeab96",
   "metadata": {},
   "source": [
    "## Strong potential"
   ]
  },
  {
   "cell_type": "code",
   "execution_count": null,
   "id": "9be045b7",
   "metadata": {},
   "outputs": [],
   "source": [
    "import numpy as np\n",
    "import matplotlib.pyplot as plt\n",
    "kappa_list = [1e2, 1e3, 1e4]\n",
    "gamma = np.linspace(1e-3, 99e-2, 100)\n",
    "for kappa in kappa_list:\n",
    "    eta = fjc.nondimensional_force(gamma, kappa)\n",
    "    plt.plot(gamma, eta, label=r'$\\kappa=$' + str(kappa))\n",
    "    eta_asymptotic = fjc.asymptotic.strong_potential.nondimensional_force(gamma, kappa)\n",
    "    plt.plot(gamma, eta_asymptotic, 'k--', label='asymptotic')\n",
    "plt.legend()\n",
    "plt.xlim([0, 1])\n",
    "plt.ylim([0, 12])\n",
    "plt.xlabel(r'$\\gamma$')\n",
    "plt.ylabel(r'$\\eta$')\n",
    "plt.show()"
   ]
  },
  {
   "cell_type": "markdown",
   "id": "1d21a64d",
   "metadata": {},
   "source": [
    "## Weak potential"
   ]
  },
  {
   "cell_type": "code",
   "execution_count": null,
   "id": "64c83f29",
   "metadata": {},
   "outputs": [],
   "source": [
    "import numpy as np\n",
    "import matplotlib.pyplot as plt\n",
    "kappa_list = [1e1, 5e0, 1e-1]\n",
    "eta = np.linspace(1e-3, 12e0, 100)\n",
    "for kappa in kappa_list:\n",
    "    gamma = fjc.nondimensional_end_to_end_length_per_link(eta/kappa, kappa)\n",
    "    plt.plot(gamma, eta, label=r'$\\kappa=$' + str(kappa))\n",
    "    gamma_asymptotic = fjc.asymptotic.weak_potential.nondimensional_end_to_end_length_per_link(eta/kappa, kappa)\n",
    "    plt.plot(gamma_asymptotic, eta, 'k--', label='asymptotic')\n",
    "plt.legend()\n",
    "plt.xlim([0, 0.4])\n",
    "plt.ylim([0, 12])\n",
    "plt.xlabel(r'$\\gamma$')\n",
    "plt.ylabel(r'$\\eta$')\n",
    "plt.show()"
   ]
  }
 ],
 "metadata": {
  "kernelspec": {
   "display_name": "Python 3 (ipykernel)",
   "language": "python",
   "name": "python3"
  },
  "language_info": {
   "codemirror_mode": {
    "name": "ipython",
    "version": 3
   },
   "file_extension": ".py",
   "mimetype": "text/x-python",
   "name": "python",
   "nbconvert_exporter": "python",
   "pygments_lexer": "ipython3",
   "version": "3.10.4"
  }
 },
 "nbformat": 4,
 "nbformat_minor": 5
}
