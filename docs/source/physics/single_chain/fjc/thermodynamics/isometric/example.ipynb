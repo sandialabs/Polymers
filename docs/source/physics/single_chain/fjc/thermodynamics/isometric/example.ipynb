{
 "cells": [
  {
   "cell_type": "markdown",
   "id": "d13af192",
   "metadata": {},
   "source": [
    "# Freely jointed chains in the isometric ensemble\n",
    "\n",
    "[![Binder](https://mybinder.org/badge_logo.svg)](https://mybinder.org/v2/gh/sandialabs/Polymers/main?labpath=docs%2Fsource%2Fexample_notebook.ipynb)"
   ]
  },
  {
   "cell_type": "code",
   "execution_count": null,
   "id": "f57cf5ea",
   "metadata": {},
   "outputs": [],
   "source": [
    "from polymers import physics\n",
    "FJC = physics.single_chain.fjc.thermodynamics.isometric.FJC"
   ]
  },
  {
   "cell_type": "code",
   "execution_count": null,
   "id": "0d41d285",
   "metadata": {},
   "outputs": [],
   "source": [
    "import numpy as np\n",
    "import matplotlib.pyplot as plt\n",
    "gamma = np.linspace(0, 1, 100)[1:-1]\n",
    "eta = np.zeros(len(gamma))\n",
    "eta_legendre = np.zeros(len(gamma))\n",
    "for N_b in [4, 8, 16, 32]:\n",
    "    fjc = FJC(N_b, 1, 1)\n",
    "    for i, gamma_i in enumerate(gamma):\n",
    "        eta[i] = fjc.nondimensional_force(gamma_i)\n",
    "    plt.plot(gamma, eta, label=r'$N_b=$' + str(N_b))\n",
    "for i, gamma_i in enumerate(gamma):\n",
    "    eta_legendre[i] = fjc.legendre.nondimensional_force(gamma_i)\n",
    "plt.plot(gamma, eta_legendre, 'k--', label='legendre')\n",
    "plt.legend()\n",
    "plt.xlim([0, 1])\n",
    "plt.ylim([0, 10])\n",
    "plt.xlabel(r'$\\gamma$')\n",
    "plt.ylabel(r'$\\eta$')\n",
    "plt.show()"
   ]
  }
 ],
 "metadata": {
  "kernelspec": {
   "display_name": "Python 3 (ipykernel)",
   "language": "python",
   "name": "python3"
  },
  "language_info": {
   "codemirror_mode": {
    "name": "ipython",
    "version": 3
   },
   "file_extension": ".py",
   "mimetype": "text/x-python",
   "name": "python",
   "nbconvert_exporter": "python",
   "pygments_lexer": "ipython3",
   "version": "3.10.4"
  },
  "vscode": {
   "interpreter": {
    "hash": "29648422c0d902cf9c24b20050e753f73190aa38c818f5e77c552519555ba69b"
   }
  }
 },
 "nbformat": 4,
 "nbformat_minor": 5
}
