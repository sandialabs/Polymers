{
 "cells": [
  {
   "cell_type": "markdown",
   "id": "d13af192",
   "metadata": {},
   "source": [
    "# Example Notebook"
   ]
  },
  {
   "cell_type": "code",
   "execution_count": null,
   "id": "f57cf5ea",
   "metadata": {},
   "outputs": [],
   "source": [
    "import polymers\n",
    "fjc_isometric = polymers.physics.single_chain.fjc.thermodynamics.isometric.FJC(8, 1, 1)"
   ]
  }
 ],
 "metadata": {
  "kernelspec": {
   "display_name": "Python 3 (ipykernel)",
   "language": "python",
   "name": "python3"
  },
  "language_info": {
   "codemirror_mode": {
    "name": "ipython",
    "version": 3
   },
   "file_extension": ".py",
   "mimetype": "text/x-python",
   "name": "python",
   "nbconvert_exporter": "python",
   "pygments_lexer": "ipython3",
   "version": "3.10.4"
  },
  "vscode": {
   "interpreter": {
    "hash": "29648422c0d902cf9c24b20050e753f73190aa38c818f5e77c552519555ba69b"
   }
  }
 },
 "nbformat": 4,
 "nbformat_minor": 5
}
