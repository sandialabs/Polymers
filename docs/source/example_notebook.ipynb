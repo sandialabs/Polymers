{
 "cells": [
  {
   "cell_type": "markdown",
   "id": "d13af192",
   "metadata": {},
   "source": [
    "# Example Notebook"
   ]
  },
  {
   "cell_type": "code",
   "execution_count": null,
   "id": "f57cf5ea",
   "metadata": {},
   "outputs": [],
   "source": [
    "import polymers\n",
    "FJC = polymers.physics.single_chain.fjc.thermodynamics.isometric.FJC"
   ]
  },
  {
   "cell_type": "code",
   "execution_count": null,
   "id": "0d41d285",
   "metadata": {},
   "outputs": [],
   "source": [
    "import numpy as np\n",
    "import matplotlib.pyplot as plt\n",
    "gamma = np.linspace(0, 1, 100)[1:-1]\n",
    "eta = np.zeros(len(gamma))\n",
    "for number_of_links in [4, 8, 16, 32]:\n",
    "    fjc = FJC(number_of_links, 1, 1)\n",
    "    for i, gamma_i in enumerate(gamma):\n",
    "        eta[i] = fjc. nondimensional_force(gamma_i)\n",
    "    _ = plt.plot(gamma, eta)"
   ]
  }
 ],
 "metadata": {
  "kernelspec": {
   "display_name": "Python 3 (ipykernel)",
   "language": "python",
   "name": "python3"
  },
  "language_info": {
   "codemirror_mode": {
    "name": "ipython",
    "version": 3
   },
   "file_extension": ".py",
   "mimetype": "text/x-python",
   "name": "python",
   "nbconvert_exporter": "python",
   "pygments_lexer": "ipython3",
   "version": "3.10.4"
  },
  "vscode": {
   "interpreter": {
    "hash": "29648422c0d902cf9c24b20050e753f73190aa38c818f5e77c552519555ba69b"
   }
  }
 },
 "nbformat": 4,
 "nbformat_minor": 5
}
